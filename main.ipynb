{
 "cells": [
  {
   "cell_type": "code",
   "execution_count": 2,
   "metadata": {},
   "outputs": [
    {
     "name": "stdout",
     "output_type": "stream",
     "text": [
      "Downloading dogs-vs-cats.zip to ./data\n",
      "100%|███████████████████████████████████████▉| 811M/812M [00:53<00:00, 21.7MB/s]\n",
      "100%|████████████████████████████████████████| 812M/812M [00:53<00:00, 15.9MB/s]\n"
     ]
    }
   ],
   "source": [
    "#Downloading the dogs and cats dataset from Kaggle\n",
    "!kaggle competitions download -c dogs-vs-cats -p ./data/"
   ]
  },
  {
   "cell_type": "code",
   "execution_count": 6,
   "metadata": {},
   "outputs": [],
   "source": [
    "# Unzip the dataset\n",
    "import zipfile\n",
    "\n",
    "file = \"data/dogs-vs-cats.zip\"\n",
    "data_location = \"data/\"\n",
    "\n",
    "zip_files = ['data/test1.zip','data/train.zip']"
   ]
  },
  {
   "cell_type": "code",
   "execution_count": 5,
   "metadata": {},
   "outputs": [],
   "source": [
    "# Unzipping\n",
    "zipped = zipfile.ZipFile(file, 'r')\n",
    "zipped.extractall(data_location)\n",
    "zipped.close()"
   ]
  },
  {
   "cell_type": "code",
   "execution_count": 7,
   "metadata": {},
   "outputs": [],
   "source": [
    "for zip in zip_files:\n",
    "    zipped = zipfile.ZipFile(zip, 'r')\n",
    "    zipped.extractall(data_location)\n",
    "    zipped.close()"
   ]
  }
 ],
 "metadata": {
  "interpreter": {
   "hash": "326012475e3b207bfe43a178e06d3534477db45228184ee49f03c9b3d2f59f0f"
  },
  "kernelspec": {
   "display_name": "Python 3.9.0 ('tf')",
   "language": "python",
   "name": "python3"
  },
  "language_info": {
   "codemirror_mode": {
    "name": "ipython",
    "version": 3
   },
   "file_extension": ".py",
   "mimetype": "text/x-python",
   "name": "python",
   "nbconvert_exporter": "python",
   "pygments_lexer": "ipython3",
   "version": "3.9.0"
  },
  "orig_nbformat": 4
 },
 "nbformat": 4,
 "nbformat_minor": 2
}
